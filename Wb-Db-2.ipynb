{
 "cells": [
  {
   "cell_type": "code",
   "execution_count": null,
   "metadata": {
    "ExecuteTime": {
     "end_time": "2020-04-09T15:24:51.023380Z",
     "start_time": "2020-04-09T15:23:49.553402Z"
    }
   },
   "outputs": [],
   "source": [
    "import pandas as pd\n",
    "import numpy as np\n",
    "import geopandas as gpd\n",
    "import panel as pn\n",
    "import holoviews as hv\n",
    "import geoviews as gv\n",
    "import geoviews.feature as gf\n",
    "from bokeh.models import HoverTool\n",
    "import hvplot.pandas\n",
    "import datashader.geo\n",
    "from geoviews import opts\n",
    "from holoviews import streams\n",
    "gv.extension('bokeh')\n",
    "hv.extension('bokeh')\n",
    "pn.extension()"
   ]
  },
  {
   "cell_type": "markdown",
   "metadata": {},
   "source": [
    "#### Sets up Train (country,tempchange), geodf (added polygon geometry to Train), centroidf (centre LongLat of all countries), pointsDf (merging Train and centroid)"
   ]
  },
  {
   "cell_type": "code",
   "execution_count": 2,
   "metadata": {
    "ExecuteTime": {
     "end_time": "2020-04-09T15:24:53.023159Z",
     "start_time": "2020-04-09T15:24:51.023380Z"
    }
   },
   "outputs": [],
   "source": [
    "mainDf=pd.read_pickle('NewDf')\n",
    "mainDf.date=mainDf.date.astype('int32')\n",
    "Train=pd.read_csv('tdiff4.csv')\n",
    "centroidf=pd.read_csv('country_centroids_az8.csv',usecols=['admin','adm0_a3','Longitude', 'Latitude'])\n",
    "centroidf.rename(mapper={'admin':'country','adm0_a3':'iso3'},inplace=True,axis=1)\n",
    "\n",
    "shapefile1='ne_110m_admin_0_countries/ne_110m_admin_0_countries.shp'\n",
    "gdf1 = gpd.read_file(shapefile1)[['ADMIN', 'ADM0_A3', 'geometry']]\n",
    "gdf1.columns = ['country', 'country_code', 'geometry']\n",
    "gdf1.drop(gdf1.index[159],inplace=True)\n",
    "\n",
    "shapefile='ne_10m_admin_0_sovereignty/ne_10m_admin_0_sovereignty.shp'\n",
    "gdf = gpd.read_file(shapefile)[['ADMIN', 'ADM0_A3', 'geometry']]\n",
    "gdf.columns = ['country', 'country_code', 'geometry']\n",
    "gdf.drop(gdf.index[163],inplace=True)\n",
    "gdf.reset_index().drop('index',axis=1,inplace=True)\n",
    "\n",
    "gdf.replace(to_replace=gdf.country.loc[188],value='Sao Tome and Principe',inplace=True)\n",
    "\n",
    "newcntlist=['Greenland','Kazakhstan','New Caledonia','Puerto Rico']\n",
    "for i in newcntlist:\n",
    "    shit=gdf1.loc[gdf1.country==i]\n",
    "    gdf=pd.concat([gdf,shit])\n",
    "\n",
    "geodf=pd.merge(gdf,Train,on='country')\n",
    "pointsDf=pd.merge(Train,centroidf,how='left',on='country') # Just so I have only the centroids of countrys on the map\n",
    "pointsDf.dropna(inplace=True)\n",
    "pointsDf['easting'], pointsDf['northing'] = datashader.geo.lnglat_to_meters(pointsDf.Longitude, pointsDf.Latitude)"
   ]
  },
  {
   "cell_type": "markdown",
   "metadata": {
    "ExecuteTime": {
     "end_time": "2020-03-29T17:42:27.511147Z",
     "start_time": "2020-03-29T17:42:27.495497Z"
    }
   },
   "source": [
    "#### Setting up the geopolygon and centroid maps"
   ]
  },
  {
   "cell_type": "code",
   "execution_count": 4,
   "metadata": {
    "ExecuteTime": {
     "end_time": "2020-04-09T15:24:53.194748Z",
     "start_time": "2020-04-09T15:24:53.085403Z"
    }
   },
   "outputs": [],
   "source": [
    "tooltips = [\n",
    "    ('Country', '@country'),\n",
    "    ('ΔTemp(1901-2012)', '@tempchange')\n",
    "]\n",
    "hover = HoverTool(tooltips=tooltips)\n",
    "geoplot=gv.Polygons(geodf,vdims=['tempchange','country']).opts(width=700,height=450,colorbar=True,color_index='tempchange'\\\n",
    "                                                       ,tools=[hover,'tap'])\n",
    "\n",
    "pointsplot=pointsDf.hvplot.points(x='easting',y='northing',color='black',size=50).opts(marker='d',tools=['tap'])"
   ]
  },
  {
   "cell_type": "markdown",
   "metadata": {},
   "source": [
    "#### Creating the Dashboard"
   ]
  },
  {
   "cell_type": "code",
   "execution_count": 35,
   "metadata": {
    "ExecuteTime": {
     "end_time": "2020-04-09T16:04:43.862428Z",
     "start_time": "2020-04-09T16:04:43.746477Z"
    }
   },
   "outputs": [],
   "source": [
    "# Main pipeline: extracts the clicked country from the complete Dataframe\n",
    "def main_pipeline(ds,index):\n",
    "    if not index:\n",
    "        return ds.iloc[[]]\n",
    "    row = pointsplot.data.iloc[index[0]]\n",
    "    df = ds[ds['iso3']==row.iso3]\n",
    "    return hv.Dataset(df)\n",
    "\n",
    "dataset = hv.Dataset(mainDf)\n",
    "index_stream = streams.Selection1D(source=pointsplot, index=[0])\n",
    "indicator=pn.widgets.Select(value='country', options=mainDf.columns.tolist())\n",
    "# This is where it all happens: the mainDf having all data is connected by the points stream thru the apply function\n",
    "filtered_ds = dataset.apply(main_pipeline, index=index_stream.param.index)\n",
    "\n",
    "# Creates line plot of temperature for the selected country\n",
    "def temp_scatter(ds):\n",
    "    countryname=ds.data['country'].iloc[0]\n",
    "    return ds.data.hvplot.line('date','Temp(C)',title='{}'.format(countryname))\n",
    "\n",
    "# Creates the economic/social indicator line plot based on the country & indicator selected by user\n",
    "@pn.depends(index_stream.param.index, indicator.param.value)\n",
    "def indplot(index,indicator):\n",
    "    if not index:\n",
    "        return pointsplot.iloc[[]]\n",
    "    streamdf=pointsplot.data.iloc[index[0]]\n",
    "    df=mainDf[mainDf['iso3']==streamdf.iso3]\n",
    "    return df.hvplot.line('date','{}'.format(indicator))\n",
    "\n",
    "# Final adjustments for setting up display\n",
    "dynamic_scatter=pn.panel(filtered_ds.apply(temp_scatter)) \n",
    "econplot=pn.panel(indplot)\n",
    "gpplot=pn.panel((geoplot*pointsplot).opts(width=800,height=500))\n",
    "indicatorbox=pn.WidgetBox(indicator)\n",
    "ecandwid=pn.Column(indicatorbox,econplot)\n",
    "\n",
    "# Serving the app\n",
    "pn.Row(gpplot,pn.Column(dynamic_scatter,indicatorbox,econplot)).servable()"
   ]
  }
 ],
 "metadata": {
  "kernelspec": {
   "display_name": "Python 3",
   "language": "python",
   "name": "python3"
  },
  "language_info": {
   "codemirror_mode": {
    "name": "ipython",
    "version": 3
   },
   "file_extension": ".py",
   "mimetype": "text/x-python",
   "name": "python",
   "nbconvert_exporter": "python",
   "pygments_lexer": "ipython3",
   "version": "3.7.6"
  },
  "toc": {
   "base_numbering": 1,
   "nav_menu": {},
   "number_sections": true,
   "sideBar": true,
   "skip_h1_title": false,
   "title_cell": "Table of Contents",
   "title_sidebar": "Contents",
   "toc_cell": false,
   "toc_position": {},
   "toc_section_display": true,
   "toc_window_display": false
  }
 },
 "nbformat": 4,
 "nbformat_minor": 4
}
